{
 "cells": [
  {
   "cell_type": "code",
   "execution_count": null,
   "metadata": {},
   "outputs": [],
   "source": [
    "# Use this cell to define your strategy\n",
    "def my_strategy(board, player_number):\n",
    "    '''Write your strategy here\n",
    "    (param) board ([[int]*6]*7): The board the move will be taken on. For each position, will be 0 for unoccupied, 1 for occupied by player 1, 2 for occupied by player 2.\n",
    "    (param) int player_number The number of your pieces in the board\n",
    "    (return) int the number of the column you want your next move to be in (0 for the leftmost column, 6 for the rightmost)'''\n",
    "    #Write your code here\n",
    "\n"
   ]
  },
  {
   "cell_type": "code",
   "execution_count": null,
   "metadata": {},
   "outputs": [],
   "source": [
    "# When you want to play against your strategy, run the cell above, then this cell\n",
    "from game.run_game import run_game\n",
    "from strategies import manual\n",
    "\n",
    "run_game(\"Your Strategy\", \"You\", my_strategy, manual.manual, move_duration=0.1)"
   ]
  },
  {
   "cell_type": "code",
   "execution_count": null,
   "metadata": {},
   "outputs": [],
   "source": [
    "# Run this cell to see your code play a single match against the opponent you will face in the assessment\n",
    "# Press enter to progress the game\n",
    "from game.run_game import run_game\n",
    "from assessment.assessor import random_opponent\n",
    "\n",
    "run_game(\"Your Strategy\", \"Opponent\", my_strategy, random_opponent, move_duration=-1)"
   ]
  },
  {
   "cell_type": "code",
   "execution_count": null,
   "metadata": {},
   "outputs": [],
   "source": [
    "# When you're ready to run your strategy run the top cell, then this cell\n",
    "# You can do this as often as you like as you improve your strategy\n",
    "from assessment.assessor import assess\n",
    "\n",
    "assess(my_strategy)"
   ]
  }
 ],
 "metadata": {
  "kernelspec": {
   "display_name": "Python 3",
   "language": "python",
   "name": "python3"
  },
  "language_info": {
   "codemirror_mode": {
    "name": "ipython",
    "version": 3
   },
   "file_extension": ".py",
   "mimetype": "text/x-python",
   "name": "python",
   "nbconvert_exporter": "python",
   "pygments_lexer": "ipython3",
   "version": "3.11.7"
  },
  "orig_nbformat": 4,
  "vscode": {
   "interpreter": {
    "hash": "5dbf766eb95023f9dddb799b5381b4ed6a9322e38632e8ac1570872c767b304b"
   }
  }
 },
 "nbformat": 4,
 "nbformat_minor": 2
}
